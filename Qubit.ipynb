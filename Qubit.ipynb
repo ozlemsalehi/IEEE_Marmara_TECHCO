{
 "cells": [
  {
   "cell_type": "markdown",
   "id": "minus-coach",
   "metadata": {},
   "source": [
    "<table width=\"100%\"><tr><td style=\"color:#bbbbbb;background-color:#ffffff;font-size:11px;font-style:italic;text-align:right;\">This cell contains some macros. If there is a problem with displaying mathematical formulas, please run this cell to load these macros. </td></tr></table>\n",
    "$ \\newcommand{\\bra}[1]{\\langle #1|} $\n",
    "$ \\newcommand{\\ket}[1]{|#1\\rangle} $\n",
    "$ \\newcommand{\\braket}[2]{\\langle #1|#2\\rangle} $\n",
    "$ \\newcommand{\\dot}[2]{ #1 \\cdot #2} $\n",
    "$ \\newcommand{\\biginner}[2]{\\left\\langle #1,#2\\right\\rangle} $\n",
    "$ \\newcommand{\\mymatrix}[2]{\\left( \\begin{array}{#1} #2\\end{array} \\right)} $\n",
    "$ \\newcommand{\\myvector}[1]{\\mymatrix{c}{#1}} $\n",
    "$ \\newcommand{\\myrvector}[1]{\\mymatrix{r}{#1}} $\n",
    "$ \\newcommand{\\mypar}[1]{\\left( #1 \\right)} $\n",
    "$ \\newcommand{\\mybigpar}[1]{ \\Big( #1 \\Big)} $\n",
    "$ \\newcommand{\\sqrttwo}{\\frac{1}{\\sqrt{2}}} $\n",
    "$ \\newcommand{\\dsqrttwo}{\\dfrac{1}{\\sqrt{2}}} $\n",
    "$ \\newcommand{\\onehalf}{\\frac{1}{2}} $\n",
    "$ \\newcommand{\\donehalf}{\\dfrac{1}{2}} $\n",
    "$ \\newcommand{\\hadamard}{ \\mymatrix{rr}{ \\sqrttwo & \\sqrttwo \\\\ \\sqrttwo & -\\sqrttwo }} $\n",
    "$ \\newcommand{\\vzero}{\\myvector{1\\\\0}} $\n",
    "$ \\newcommand{\\vone}{\\myvector{0\\\\1}} $\n",
    "$ \\newcommand{\\vhadamardzero}{\\myvector{ \\sqrttwo \\\\  \\sqrttwo } } $\n",
    "$ \\newcommand{\\vhadamardone}{ \\myrvector{ \\sqrttwo \\\\ -\\sqrttwo } } $\n",
    "$ \\newcommand{\\myarray}[2]{ \\begin{array}{#1}#2\\end{array}} $\n",
    "$ \\newcommand{\\X}{ \\mymatrix{cc}{0 & 1 \\\\ 1 & 0}  } $\n",
    "$ \\newcommand{\\Z}{ \\mymatrix{rr}{1 & 0 \\\\ 0 & -1}  } $\n",
    "$ \\newcommand{\\Htwo}{ \\mymatrix{rrrr}{ \\frac{1}{2} & \\frac{1}{2} & \\frac{1}{2} & \\frac{1}{2} \\\\ \\frac{1}{2} & -\\frac{1}{2} & \\frac{1}{2} & -\\frac{1}{2} \\\\ \\frac{1}{2} & \\frac{1}{2} & -\\frac{1}{2} & -\\frac{1}{2} \\\\ \\frac{1}{2} & -\\frac{1}{2} & -\\frac{1}{2} & \\frac{1}{2} } } $\n",
    "$ \\newcommand{\\CNOT}{ \\mymatrix{cccc}{1 & 0 & 0 & 0 \\\\ 0 & 1 & 0 & 0 \\\\ 0 & 0 & 0 & 1 \\\\ 0 & 0 & 1 & 0} } $\n",
    "$ \\newcommand{\\norm}[1]{ \\left\\lVert #1 \\right\\rVert } $"
   ]
  },
  {
   "cell_type": "markdown",
   "id": "recent-certification",
   "metadata": {},
   "source": [
    "https://github.com/ozlemsalehi/IEEE_Marmara_TECHCO"
   ]
  },
  {
   "cell_type": "markdown",
   "id": "social-making",
   "metadata": {},
   "source": [
    "## Klasik bit\n",
    "\n",
    "Klasik bit $\\bf 0$ ya da $\\bf 1$ durumlarından birinde bulunabilir.\n"
   ]
  },
  {
   "cell_type": "markdown",
   "id": "tropical-there",
   "metadata": {},
   "source": [
    "Bir bite uygulayabileceğimiz 4 farklı işlem vardır.\n",
    "\n",
    "<ol>\n",
    "    <li> $ I(\\mathbf{0}) = \\mathbf{0} $ and $ I(\\mathbf{1}) = \\mathbf{1} $ </li>\n",
    "    <li> $ NOT(\\mathbf{0}) = \\mathbf{1} $ and $ NOT(\\mathbf{1}) = \\mathbf{0} $ </li>\n",
    "    <li>  $ ZERO(\\mathbf{0}) = \\mathbf{0} $ and $ ZERO(\\mathbf{1}) = \\mathbf{0} $ </li>\n",
    "    <li> $ ONE(\\mathbf{0}) = \\mathbf{1} $ and $ ONE(\\mathbf{1}) = \\mathbf{1} $ </li>\n",
    "</ol>"
   ]
  },
  {
   "cell_type": "markdown",
   "id": "consolidated-background",
   "metadata": {},
   "source": [
    "$I = \\begin{array}{c|cc} \\mbox{Final}\\overset{\\LARGE\\setminus}{\\phantom{.}}\\overset{ \\mbox{Initial}}{\\phantom{l}} \n",
    " & \\mathbf{0} & \\mathbf{1} \\\\ \\hline \\mathbf{0} & 1 & 0 \\\\  \\mathbf{1} & 0 & 1  \\end{array}\n",
    "~~~~~~\n",
    "NOT = \\begin{array}{c|cc} & \\mathbf{0} & \\mathbf{1} \\\\ \\hline \\mathbf{0} & 0 & 1 \\\\ \\mathbf{1} & 1 & 0  \\end{array}\n",
    "~~~~~~\n",
    "ZERO = \\begin{array}{c|cc} & \\mathbf{0} & \\mathbf{1} \\\\ \\hline \\mathbf{0} & 1 & 1 \\\\  \\mathbf{1} & 0 & 0  \\end{array}\n",
    "~~~~~~\n",
    "ONE = \\begin{array}{c|cc} & \\mathbf{0} & \\mathbf{1} \\\\ \\hline \\mathbf{0} & 0 & 0 \\\\  \\mathbf{1} & 1 & 1  \\end{array}\n",
    "$"
   ]
  },
  {
   "cell_type": "markdown",
   "id": "finite-interference",
   "metadata": {},
   "source": [
    "### Vektör gösterimi\n",
    " \n",
    "$ \\mathbf{0} = \\myvector{1 \\\\ 0} $  ve  $ \\mathbf{1} = \\myvector{0\\\\ 1} $\n"
   ]
  },
  {
   "cell_type": "markdown",
   "id": "similar-audit",
   "metadata": {},
   "source": [
    "$\\mathbf{0}$ durumuna $NOT$ işlemi uygulayalım:\n",
    "    \n",
    "$\\mathbf{0}= \\X  \\myvector{1\\\\ 0} = \\myvector{0\\\\ 1} = \\mathbf{1}$"
   ]
  },
  {
   "cell_type": "markdown",
   "id": "desirable-mozambique",
   "metadata": {},
   "source": [
    "$\\mathbf{1}$ durumuna $NOT$ işlemi uygulayalım:\n",
    "    \n",
    "$\\mathbf{1}=  \\X \\myvector{0\\\\ 1} = \\myvector{1\\\\ 0} = \\mathbf{0}$"
   ]
  },
  {
   "cell_type": "markdown",
   "id": "federal-treatment",
   "metadata": {},
   "source": [
    "## Olasılıksal bit\n",
    "\n",
    "Olasılıksal bit $a$ olasılıkla [0], $b$ olasılıkla [1] durumunda bulunabilir.\n",
    "\n",
    "Olasılıksal bitin durumunu $a\\geq 0, b \\geq 0, a+b=1$ olmak üzere $a[0]+ b[1]$ şeklinde gösterebiliriz."
   ]
  },
  {
   "cell_type": "markdown",
   "id": "waiting-short",
   "metadata": {},
   "source": [
    "### Vektör gösterimi\n",
    "\n",
    "$a[0] + b[1]$ durumundaki olasılıksal bit, $\\myvector{a\\\\ b}$ vektörü ile gösterilir."
   ]
  },
  {
   "cell_type": "markdown",
   "id": "processed-reservation",
   "metadata": {},
   "source": [
    "$\\myvector{1/2\\\\ 1/2}$, $\\myvector{1/3\\\\ 2/3}$, $\\myvector{4/5\\\\ 1/5}$ olasılıksal bitleri ifade eder."
   ]
  },
  {
   "cell_type": "markdown",
   "id": "fantastic-theme",
   "metadata": {},
   "source": [
    "## Kubit \n",
    "\n",
    "Klasik bitlerde olduğu gibi, bir kubit iki farklı durumda bulunabilir: 0 ve 1.\n",
    "\n",
    "Bu durumları $\\ket{0}$ ve $\\ket{1}$ ile göstereceğiz."
   ]
  },
  {
   "cell_type": "markdown",
   "id": "round-arabic",
   "metadata": {},
   "source": [
    "### Vektör gösterimi\n",
    "\n",
    " $ \\ket{0} = \\myvector{1 \\\\ 0} $  ve  $ \\ket{1} = \\myvector{0\\\\ 1} $"
   ]
  },
  {
   "cell_type": "markdown",
   "id": "delayed-inspector",
   "metadata": {},
   "source": [
    "### Süperpozisyon ve ölçüm\n",
    "\n",
    "Bir kubit klasik bitten farklı olarak 0 ve 1'in lineer kombinasyonunda bulunabilir. Bir kubitin genel durumu $|\\alpha|^2 + |\\beta|^2=1$ olmak üzere aşağıdaki gibi gösterilir.\n",
    "\n",
    "$$\\ket {\\psi}=\\alpha \\ket{0} + \\beta \\ket {1}$$\n"
   ]
  },
  {
   "cell_type": "markdown",
   "id": "jewish-professional",
   "metadata": {},
   "source": [
    "Ölçüm yapıldığında kubit $|\\alpha|^2$ olasılıkla $\\ket{0}$, $|\\beta|^2$ olasılıkla $\\ket{1}$ durumunda gözlenir."
   ]
  },
  {
   "cell_type": "markdown",
   "id": "premium-perry",
   "metadata": {},
   "source": [
    "Vektör gösterimini kullanırsak, aşağıdaki şekilde ifade edebiliriz.\n",
    "\n",
    "$$ \\ket{\\psi} = \\myvector{\\alpha\\\\ \\beta} $$"
   ]
  },
  {
   "cell_type": "markdown",
   "id": "spatial-income",
   "metadata": {},
   "source": [
    " $ \\myvector{-\\frac{3}{5} \\\\ - \\frac{4}{5}} $, $ \\myvector{\\frac{3}{5} \\\\ \\frac{4}{5}} $, $ \\myrvector{\\frac{1}{\\sqrt{3}} \\\\ - \\frac{\\sqrt{2}}{\\sqrt{3}}} $ kuantum bitlerini ifade eder."
   ]
  },
  {
   "cell_type": "markdown",
   "id": "turkish-operator",
   "metadata": {},
   "source": [
    "### Tek kubitlik kapılar "
   ]
  },
  {
   "cell_type": "markdown",
   "id": "flexible-muslim",
   "metadata": {},
   "source": [
    "<h3> NOT kapısı </h3>\n",
    "\n",
    "\n",
    "$ X = \\X$"
   ]
  },
  {
   "cell_type": "markdown",
   "id": "english-giant",
   "metadata": {},
   "source": [
    "$ X \\ket{0} = \\ket{1} $. \n",
    "\n",
    "$ X \\ket{0} = \\X \\vzero = \\vone = \\ket{1} $.\n",
    "\n",
    "$ X \\ket{1} = \\ket{0} $.\n",
    "\n",
    "$ X \\ket{1} = \\X \\vone = \\vzero = \\ket{0} $."
   ]
  },
  {
   "cell_type": "code",
   "execution_count": 2,
   "id": "fifteen-logistics",
   "metadata": {},
   "outputs": [
    {
     "name": "stdout",
     "output_type": "stream",
     "text": [
      "{'1': 1024}\n"
     ]
    }
   ],
   "source": [
    "from qiskit import QuantumRegister, ClassicalRegister, QuantumCircuit\n",
    "from qiskit import execute, Aer\n",
    "\n",
    "qreg =  QuantumRegister(1)\n",
    "creg = ClassicalRegister(1)\n",
    "\n",
    "mycircuit = QuantumCircuit(qreg,creg)\n",
    "\n",
    "mycircuit.x(qreg[0]) # (quantum) bits are enumerated starting from 0\n",
    "mycircuit.measure(qreg[0],creg[0])\n",
    "\n",
    "job = execute(mycircuit,Aer.get_backend('qasm_simulator'),shots=1024)\n",
    "\n",
    "counts = job.result().get_counts(mycircuit)\n",
    "print(counts) "
   ]
  },
  {
   "cell_type": "code",
   "execution_count": 4,
   "id": "disciplinary-treasure",
   "metadata": {},
   "outputs": [
    {
     "data": {
      "image/png": "[encoded data removed]",
      "text/plain": [
       "<Figure size 206.707x144.48 with 1 Axes>"
      ]
     },
     "execution_count": 4,
     "metadata": {},
     "output_type": "execute_result"
    }
   ],
   "source": [
    "mycircuit.draw(output='mpl')"
   ]
  },
  {
   "cell_type": "markdown",
   "id": "later-automation",
   "metadata": {},
   "source": [
    "<h3> Z Kapısı </h3>\n",
    "\n",
    "$ Z = \\Z $.\n"
   ]
  },
  {
   "cell_type": "markdown",
   "id": "needed-drain",
   "metadata": {},
   "source": [
    "$ Z \\ket{0} = \\ket{0} $. \n",
    "\n",
    "$ Z \\ket{0} = \\Z \\vzero =  \\myvector{1 \\\\ 0} = \\ket{0} $.\n",
    "\n",
    " $ Z \\ket{1} = -\\ket{1} $.\n",
    "\n",
    "$ Z \\ket{1} = \\Z \\vone = \\myvector{0 \\\\ -1}  = -\\ket{1} $."
   ]
  },
  {
   "cell_type": "code",
   "execution_count": 12,
   "id": "apparent-tulsa",
   "metadata": {},
   "outputs": [
    {
     "name": "stdout",
     "output_type": "stream",
     "text": [
      "{'0': 1024}\n"
     ]
    }
   ],
   "source": [
    "from qiskit import QuantumRegister, ClassicalRegister, QuantumCircuit\n",
    "from qiskit import execute, Aer\n",
    "\n",
    "mycircuit = QuantumCircuit(1,1)\n",
    "\n",
    "mycircuit.z(0) # (quantum) bits are enumerated starting from 0\n",
    "mycircuit.measure(0,0)\n",
    "\n",
    "job = execute(mycircuit,Aer.get_backend('qasm_simulator'),shots=1024)\n",
    "\n",
    "counts = job.result().get_counts(mycircuit)\n",
    "print(counts) "
   ]
  },
  {
   "cell_type": "code",
   "execution_count": 17,
   "id": "super-switch",
   "metadata": {},
   "outputs": [
    {
     "data": {
      "image/png": "[encoded data removed]",
      "text/plain": [
       "<Figure size 193.726x144.48 with 1 Axes>"
      ]
     },
     "execution_count": 17,
     "metadata": {},
     "output_type": "execute_result"
    }
   ],
   "source": [
    "\n",
    "mycircuit.draw(output='mpl')"
   ]
  },
  {
   "cell_type": "markdown",
   "id": "dying-cabin",
   "metadata": {},
   "source": [
    "### Hadamard Kapısı\n",
    "\n",
    "$\n",
    "    H = \\hadamard.\n",
    "$"
   ]
  },
  {
   "cell_type": "markdown",
   "id": "korean-society",
   "metadata": {},
   "source": [
    "$\n",
    "  H \\ket{0} =  \\hadamard \\vzero =  \\vhadamardzero = \\sqrttwo \\ket{0} + \\sqrttwo \\ket{1} \n",
    "$"
   ]
  },
  {
   "cell_type": "markdown",
   "id": "visible-nightlife",
   "metadata": {},
   "source": [
    "$\n",
    "    H \\ket{1} = \\hadamard \\vone = \\vhadamardone = \\sqrttwo \\ket{0} - \\sqrttwo \\ket{1} \n",
    "$"
   ]
  },
  {
   "cell_type": "code",
   "execution_count": 13,
   "id": "convinced-capacity",
   "metadata": {},
   "outputs": [
    {
     "name": "stdout",
     "output_type": "stream",
     "text": [
      "{'0': 533, '1': 491}\n"
     ]
    }
   ],
   "source": [
    "from qiskit import QuantumRegister, ClassicalRegister, QuantumCircuit\n",
    "from qiskit import execute, Aer\n",
    "\n",
    "mycircuit = QuantumCircuit(1,1)\n",
    "\n",
    "mycircuit.h(0) # (quantum) bits are enumerated starting from 0\n",
    "mycircuit.measure(0,0)\n",
    "\n",
    "job = execute(mycircuit,Aer.get_backend('qasm_simulator'),shots=1024)\n",
    "\n",
    "counts = job.result().get_counts(mycircuit)\n",
    "print(counts) "
   ]
  }
 ],
 "metadata": {
  "kernelspec": {
   "display_name": "Python 3",
   "language": "python",
   "name": "python3"
  },
  "language_info": {
   "codemirror_mode": {
    "name": "ipython",
    "version": 3
   },
   "file_extension": ".py",
   "mimetype": "text/x-python",
   "name": "python",
   "nbconvert_exporter": "python",
   "pygments_lexer": "ipython3",
   "version": "3.7.3"
  }
 },
 "nbformat": 4,
 "nbformat_minor": 5
}

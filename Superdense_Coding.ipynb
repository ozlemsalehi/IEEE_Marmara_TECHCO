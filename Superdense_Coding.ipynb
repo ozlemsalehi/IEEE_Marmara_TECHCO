{
 "cells": [
  {
   "cell_type": "markdown",
   "id": "pursuant-cruise",
   "metadata": {},
   "source": [
    "<table width=\"100%\"><tr><td style=\"color:#bbbbbb;background-color:#ffffff;font-size:11px;font-style:italic;text-align:right;\">This cell contains some macros. If there is a problem with displaying mathematical formulas, please run this cell to load these macros. </td></tr></table>\n",
    "$ \\newcommand{\\bra}[1]{\\langle #1|} $\n",
    "$ \\newcommand{\\ket}[1]{|#1\\rangle} $\n",
    "$ \\newcommand{\\braket}[2]{\\langle #1|#2\\rangle} $\n",
    "$ \\newcommand{\\dot}[2]{ #1 \\cdot #2} $\n",
    "$ \\newcommand{\\biginner}[2]{\\left\\langle #1,#2\\right\\rangle} $\n",
    "$ \\newcommand{\\mymatrix}[2]{\\left( \\begin{array}{#1} #2\\end{array} \\right)} $\n",
    "$ \\newcommand{\\myvector}[1]{\\mymatrix{c}{#1}} $\n",
    "$ \\newcommand{\\myrvector}[1]{\\mymatrix{r}{#1}} $\n",
    "$ \\newcommand{\\mypar}[1]{\\left( #1 \\right)} $\n",
    "$ \\newcommand{\\mybigpar}[1]{ \\Big( #1 \\Big)} $\n",
    "$ \\newcommand{\\sqrttwo}{\\frac{1}{\\sqrt{2}}} $\n",
    "$ \\newcommand{\\dsqrttwo}{\\dfrac{1}{\\sqrt{2}}} $\n",
    "$ \\newcommand{\\onehalf}{\\frac{1}{2}} $\n",
    "$ \\newcommand{\\donehalf}{\\dfrac{1}{2}} $\n",
    "$ \\newcommand{\\hadamard}{ \\mymatrix{rr}{ \\sqrttwo & \\sqrttwo \\\\ \\sqrttwo & -\\sqrttwo }} $\n",
    "$ \\newcommand{\\vzero}{\\myvector{1\\\\0}} $\n",
    "$ \\newcommand{\\vone}{\\myvector{0\\\\1}} $\n",
    "$ \\newcommand{\\vhadamardzero}{\\myvector{ \\sqrttwo \\\\  \\sqrttwo } } $\n",
    "$ \\newcommand{\\vhadamardone}{ \\myrvector{ \\sqrttwo \\\\ -\\sqrttwo } } $\n",
    "$ \\newcommand{\\myarray}[2]{ \\begin{array}{#1}#2\\end{array}} $\n",
    "$ \\newcommand{\\X}{ \\mymatrix{cc}{0 & 1 \\\\ 1 & 0}  } $\n",
    "$ \\newcommand{\\Z}{ \\mymatrix{rr}{1 & 0 \\\\ 0 & -1}  } $\n",
    "$ \\newcommand{\\Htwo}{ \\mymatrix{rrrr}{ \\frac{1}{2} & \\frac{1}{2} & \\frac{1}{2} & \\frac{1}{2} \\\\ \\frac{1}{2} & -\\frac{1}{2} & \\frac{1}{2} & -\\frac{1}{2} \\\\ \\frac{1}{2} & \\frac{1}{2} & -\\frac{1}{2} & -\\frac{1}{2} \\\\ \\frac{1}{2} & -\\frac{1}{2} & -\\frac{1}{2} & \\frac{1}{2} } } $\n",
    "$ \\newcommand{\\CNOT}{ \\mymatrix{cccc}{1 & 0 & 0 & 0 \\\\ 0 & 1 & 0 & 0 \\\\ 0 & 0 & 0 & 1 \\\\ 0 & 0 & 1 & 0} } $\n",
    "$ \\newcommand{\\norm}[1]{ \\left\\lVert #1 \\right\\rVert } $\n",
    "$ \\newcommand{\\blackbit}[1] {\\mathbf{{\\color{black}#1}}} $\n",
    "$ \\newcommand{\\bluebit}[1] {\\mathbf{{\\color{blue}#1}}} $"
   ]
  },
  {
   "cell_type": "markdown",
   "id": "warming-loading",
   "metadata": {},
   "source": [
    "## Dolaşıklık"
   ]
  },
  {
   "cell_type": "markdown",
   "id": "indirect-campbell",
   "metadata": {},
   "source": [
    "Başlangıçta ikisi de $ \\ket{0} $ durumunda olan iki kubit var."
   ]
  },
  {
   "cell_type": "markdown",
   "id": "simplified-clothing",
   "metadata": {},
   "source": [
    "1. kubite Hadamard uyguluyoruz. \n",
    "\n",
    "$ \\vhadamardzero \\otimes \\vzero = \\myvector{ \\frac{1}{\\sqrt{2}} \\\\ 0 \\\\ \\frac{1}{\\sqrt{2}} \\\\ 0 }  $.\n"
   ]
  },
  {
   "cell_type": "markdown",
   "id": "experimental-abuse",
   "metadata": {},
   "source": [
    "1. kubit kontrol, 2. kubit hedef olmak üzere CNOT uyguluyoruz.\n",
    "\n",
    "$ \\CNOT \\myvector{ \\frac{1}{\\sqrt{2}} \\\\ 0 \\\\ \\frac{1}{\\sqrt{2}} \\\\ 0 }  = \\myvector{ \\frac{1}{\\sqrt{2}} \\\\ 0 \\\\0 \\\\ \\frac{1}{\\sqrt{2}} } = \\frac{1}{\\sqrt{2}}\\ket{00} + \\frac{1}{\\sqrt{2}}\\ket{11}  $.\n",
    "\n",
    "Sistem ölçüldüğünde ya $ \\ket{00} $ ya da $ \\ket{11} $ durumunda gözlemlenecektir. \n",
    "\n",
    "1.kubit ölçüldüğünde $ \\ket{0} $ durumu gözlemlenirse, 2. kubit de $ \\ket{0} $ durumuna çöker.\n",
    "\n",
    "1.kubit ölçüldüğünde $ \\ket{1} $ durumu gözlemlenirse, 2. kubit de $ \\ket{1} $ durumuna çöker."
   ]
  },
  {
   "cell_type": "markdown",
   "id": "funny-kidney",
   "metadata": {},
   "source": [
    "Dolaşık kubitler, $\\ket{u} \\otimes \\ket{v}$ şeklinde ifade edilemezler."
   ]
  },
  {
   "cell_type": "markdown",
   "id": "traditional-independence",
   "metadata": {},
   "source": [
    "## Yoğun kodlama"
   ]
  },
  {
   "cell_type": "markdown",
   "id": "political-honolulu",
   "metadata": {},
   "source": [
    "Ayşe ile Bora bir dolanık kübit çiftine sahipse, Ayşe Bora'ya (ya da Bora Ayşe'ye) tek bir kubit ile 2 bitlik bilgi gönderebilir."
   ]
  },
  {
   "cell_type": "markdown",
   "id": "major-reception",
   "metadata": {},
   "source": [
    "Öncelikle Ayşe ve Bora'nın kubitini dolanık hale getiriyoruz.\n",
    "\n",
    "- Ayşe'nin kubitine Hadamard,\n",
    "- Ayşe'nin kubiti kontrol, Bora'nın hedef olmak üzere CNOT\n",
    "\n",
    "uyguluyoruz."
   ]
  },
  {
   "cell_type": "markdown",
   "id": "modified-domestic",
   "metadata": {},
   "source": [
    "Ayşe 2 bitlik $ (x,y) $ bilgisini Bora'ya göndermek istiyor:  $ (0,0), (0,1), (1,0),\\mbox{ or } (1,1) $. \n",
    "\n",
    "- $x$ 1 ise, Ayşe kendi kubitine $Z$ kapısı uyguluyor.\n",
    "\n",
    "- $y$ 1 ise, Ayşe kendi kubitine $X$ kapısı uyguluyor.\n",
    "\n",
    "Ayşe kubitini Bora'ya gönderiyor.\n",
    "\n",
    "$$\n",
    "\\begin{matrix}\n",
    " xy & Operation & Result \\\\ \n",
    " -----------&-----------&----------- \\\\\n",
    " {00} & - & \\sqrttwo\\ket{00} + \\sqrttwo\\ket{11} \\\\ \n",
    " {01} & X & \\sqrttwo\\ket{10} + \\sqrttwo\\ket{01} \\\\  \n",
    " {10} & Z & \\sqrttwo\\ket{00} - \\sqrttwo\\ket{11} \\\\  \n",
    " {11} & XZ & \\sqrttwo\\ket{10} - \\sqrttwo\\ket{01}    \n",
    "\\end{matrix}\n",
    "$$"
   ]
  },
  {
   "cell_type": "markdown",
   "id": "geographic-biology",
   "metadata": {},
   "source": [
    "- Bora önce CNOT (Ayşe'nin kubiti kontrol, Bora'nın kubiti hedef kubit)\n",
    "\n",
    "- Sonra Ayşe'nin gönderdiği kubiti Hadamard uyguluyor.\n",
    "\n",
    "- 2 kubiti birden ölçüyor."
   ]
  }
 ],
 "metadata": {
  "kernelspec": {
   "display_name": "Python 3",
   "language": "python",
   "name": "python3"
  },
  "language_info": {
   "codemirror_mode": {
    "name": "ipython",
    "version": 3
   },
   "file_extension": ".py",
   "mimetype": "text/x-python",
   "name": "python",
   "nbconvert_exporter": "python",
   "pygments_lexer": "ipython3",
   "version": "3.7.3"
  }
 },
 "nbformat": 4,
 "nbformat_minor": 5
}
